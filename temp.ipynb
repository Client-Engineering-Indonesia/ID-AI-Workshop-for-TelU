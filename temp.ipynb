{
 "cells": [
  {
   "cell_type": "code",
   "execution_count": 1,
   "id": "6819f674",
   "metadata": {},
   "outputs": [
    {
     "data": {
      "text/plain": [
       "{'Full Name': 'Ayu Lestari Putri',\n",
       " 'NIM': '110124015',\n",
       " 'Enrollment Year': np.int64(2024),\n",
       " 'Current Year': np.int64(1),\n",
       " 'Semester': np.int64(2),\n",
       " 'Field of Study': 'Visual Communication Design',\n",
       " 'Academic Advisor': 'Dr. Maya Kartika'}"
      ]
     },
     "execution_count": 1,
     "metadata": {},
     "output_type": "execute_result"
    }
   ],
   "source": [
    "from sis_app.app.student import get_student_info\n",
    "\n",
    "#get_student_info(\"110123001\", 2023, \"1234\")\n",
    "get_student_info(\"110124015\", 2024, \"2345\")"
   ]
  },
  {
   "cell_type": "code",
   "execution_count": 2,
   "id": "92a7e015",
   "metadata": {},
   "outputs": [
    {
     "data": {
      "text/html": [
       "<div>\n",
       "<style scoped>\n",
       "    .dataframe tbody tr th:only-of-type {\n",
       "        vertical-align: middle;\n",
       "    }\n",
       "\n",
       "    .dataframe tbody tr th {\n",
       "        vertical-align: top;\n",
       "    }\n",
       "\n",
       "    .dataframe thead th {\n",
       "        text-align: right;\n",
       "    }\n",
       "</style>\n",
       "<table border=\"1\" class=\"dataframe\">\n",
       "  <thead>\n",
       "    <tr style=\"text-align: right;\">\n",
       "      <th></th>\n",
       "      <th>Full Name</th>\n",
       "      <th>NIM</th>\n",
       "      <th>Enrollment Year</th>\n",
       "      <th>Year</th>\n",
       "      <th>Term</th>\n",
       "      <th>Field of Study</th>\n",
       "      <th>Academic Advisor</th>\n",
       "      <th>PIN</th>\n",
       "    </tr>\n",
       "  </thead>\n",
       "  <tbody>\n",
       "    <tr>\n",
       "      <th>1</th>\n",
       "      <td>Ayu Lestari Putri</td>\n",
       "      <td>110124015</td>\n",
       "      <td>2024</td>\n",
       "      <td>1</td>\n",
       "      <td>2</td>\n",
       "      <td>Visual Communication Design</td>\n",
       "      <td>Dr. Maya Kartika</td>\n",
       "      <td>2345</td>\n",
       "    </tr>\n",
       "  </tbody>\n",
       "</table>\n",
       "</div>"
      ],
      "text/plain": [
       "           Full Name        NIM  Enrollment Year  Year  Term  \\\n",
       "1  Ayu Lestari Putri  110124015             2024     1     2   \n",
       "\n",
       "                Field of Study  Academic Advisor   PIN  \n",
       "1  Visual Communication Design  Dr. Maya Kartika  2345  "
      ]
     },
     "execution_count": 2,
     "metadata": {},
     "output_type": "execute_result"
    }
   ],
   "source": [
    "from student_information_system.app.models import df_students\n",
    "\n",
    "NIM = \"110124015\"\n",
    "enrollment_year = 2024\n",
    "\n",
    "student = df_students[(df_students[\"NIM\"] == NIM) &\n",
    "                          (df_students[\"Enrollment Year\"] == enrollment_year)]\n",
    "student"
   ]
  },
  {
   "cell_type": "code",
   "execution_count": 2,
   "id": "4505bc99",
   "metadata": {},
   "outputs": [
    {
     "name": "stdout",
     "output_type": "stream",
     "text": [
      "{'Student Name': 'Rizky Pratama', 'NIM': '110123001', 'Semester': np.int64(4), 'Cumulative GPA': np.float64(3.45), 'Semester GPA': np.float64(3.6), 'Courses': [{'Course ID': 'INF101', 'Course Name': 'Data Structures', 'Lecturer': 'Dr. Andi Setiawan', 'Credits': np.int64(3), 'Score': 'A'}, {'Course ID': 'INF102', 'Course Name': 'Database Systems', 'Lecturer': 'Dr. Budi Santoso', 'Credits': np.int64(3), 'Score': 'B+'}, {'Course ID': 'IS501', 'Course Name': 'System Analysis and Design', 'Lecturer': 'Dr. Ahmad Firmansyah', 'Credits': np.int64(3), 'Score': 'A'}, {'Course ID': 'IS502', 'Course Name': 'Business Intelligence', 'Lecturer': 'Dr. Lina Marlina', 'Credits': np.int64(3), 'Score': 'A-'}]}\n",
      "{'Student Name': 'Ayu Lestari Putri', 'NIM': '110124015', 'Semester': np.int64(2), 'Cumulative GPA': np.float64(3.7), 'Semester GPA': np.float64(3.8), 'Courses': [{'Course ID': 'DSN201', 'Course Name': 'Graphic Design Basics', 'Lecturer': 'Dr. Maya Kartika', 'Credits': np.int64(3), 'Score': 'A'}, {'Course ID': 'DSN202', 'Course Name': 'Digital Illustration', 'Lecturer': 'Dr. Yuli Handayani', 'Credits': np.int64(2), 'Score': 'A'}, {'Course ID': 'INF101', 'Course Name': 'Data Structures', 'Lecturer': 'Dr. Andi Setiawan', 'Credits': np.int64(3), 'Score': 'B'}, {'Course ID': 'INF102', 'Course Name': 'Database Systems', 'Lecturer': 'Dr. Budi Santoso', 'Credits': np.int64(3), 'Score': 'B+'}]}\n",
      "{'error': '❌ Invalid PIN'}\n",
      "{'Student Name': 'Muhammad Fajar Ramadhan', 'NIM': '110122043', 'Semester': np.int64(6), 'Cumulative GPA': np.float64(3.2), 'Semester GPA': np.float64(3.4), 'Courses': [{'Course ID': 'ELC301', 'Course Name': 'Circuit Theory', 'Lecturer': 'Prof. Bambang Santoso', 'Credits': np.int64(3), 'Score': 'B+'}, {'Course ID': 'ELC302', 'Course Name': 'Electromagnetics', 'Lecturer': 'Dr. Wahyu Gunawan', 'Credits': np.int64(3), 'Score': 'A-'}, {'Course ID': 'INF101', 'Course Name': 'Data Structures', 'Lecturer': 'Dr. Andi Setiawan', 'Credits': np.int64(3), 'Score': 'B'}, {'Course ID': 'IS501', 'Course Name': 'System Analysis and Design', 'Lecturer': 'Dr. Ahmad Firmansyah', 'Credits': np.int64(3), 'Score': 'A'}]}\n",
      "{'Student Name': 'Dwi Ananda Kusuma', 'NIM': '110121078', 'Semester': np.int64(8), 'Cumulative GPA': np.float64(3.55), 'Semester GPA': np.float64(3.7), 'Courses': [{'Course ID': 'IND401', 'Course Name': 'Operations Research', 'Lecturer': 'Dr. Rina Yuliana', 'Credits': np.int64(3), 'Score': 'A'}, {'Course ID': 'IND402', 'Course Name': 'Supply Chain Management', 'Lecturer': 'Dr. Suryo Adi', 'Credits': np.int64(3), 'Score': 'A-'}, {'Course ID': 'IS502', 'Course Name': 'Business Intelligence', 'Lecturer': 'Dr. Lina Marlina', 'Credits': np.int64(3), 'Score': 'B+'}, {'Course ID': 'ELC301', 'Course Name': 'Circuit Theory', 'Lecturer': 'Prof. Bambang Santoso', 'Credits': np.int64(3), 'Score': 'B'}]}\n"
     ]
    }
   ],
   "source": [
    "from sis_app.app.report import get_student_report\n",
    "\n",
    "# ========================\n",
    "# Example Usage\n",
    "# ========================\n",
    "print(get_student_report(\"110123001\", 2023, \"1234\"))  # ✅ Valid\n",
    "print(get_student_report(\"110124015\", 2024, \"2345\"))  # ✅ Valid\n",
    "print(get_student_report(\"110123001\", 2023, \"9999\"))  # ❌ Wrong PIN\n",
    "print(get_student_report(\"110122043\", 2022, \"3456\"))  # ✅ Valid\n",
    "print(get_student_report(\"110121078\", 2021, \"4567\"))  # ✅ Valid\n"
   ]
  },
  {
   "cell_type": "code",
   "execution_count": 1,
   "id": "da1832f3",
   "metadata": {},
   "outputs": [
    {
     "name": "stdout",
     "output_type": "stream",
     "text": [
      "{'Student': 'Rizky Pratama', 'NIM': '110123001', 'Semester': np.int64(4), 'Schedule': {'monday': [{'Course ID': 'ELC301', 'Course Name': 'Circuit Theory', 'Day': 'Monday', 'Time': '13:00-14:40', 'Room': 'E101', 'Lecturer': 'Prof. Bambang Santoso'}], 'tuesday': [{'Course ID': 'IND401', 'Course Name': 'Operations Research', 'Day': 'Tuesday', 'Time': '10:00-11:40', 'Room': 'F201', 'Lecturer': 'Dr. Rina Yuliana'}, {'Course ID': 'DSN201', 'Course Name': 'Graphic Design Basics', 'Day': 'Tuesday', 'Time': '13:00-14:40', 'Room': 'D303', 'Lecturer': 'Dr. Maya Kartika'}], 'thursday': [{'Course ID': 'DSN202', 'Course Name': 'Digital Illustration', 'Day': 'Thursday', 'Time': '09:00-10:40', 'Room': 'D305', 'Lecturer': 'Dr. Yuli Handayani'}]}}\n",
      "{'Student': 'Ayu Lestari Putri', 'NIM': '110124015', 'Semester': np.int64(2), 'Schedule': {'monday': [{'Course ID': 'ELC301', 'Course Name': 'Circuit Theory', 'Day': 'Monday', 'Time': '13:00-14:40', 'Room': 'E101', 'Lecturer': 'Prof. Bambang Santoso'}], 'wednesday': [{'Course ID': 'IS501', 'Course Name': 'System Analysis and Design', 'Day': 'Wednesday', 'Time': '08:00-09:40', 'Room': 'G101', 'Lecturer': 'Dr. Ahmad Firmansyah'}], 'thursday': [{'Course ID': 'IND402', 'Course Name': 'Supply Chain Management', 'Day': 'Thursday', 'Time': '13:00-14:40', 'Room': 'F202', 'Lecturer': 'Dr. Suryo Adi'}], 'friday': [{'Course ID': 'ELC302', 'Course Name': 'Electromagnetics', 'Day': 'Friday', 'Time': '08:00-09:40', 'Room': 'E102', 'Lecturer': 'Dr. Wahyu Gunawan'}]}}\n",
      "{'Student': 'Muhammad Fajar Ramadhan', 'NIM': '110122043', 'Semester': np.int64(6), 'Schedule': {'tuesday': [{'Course ID': 'IND401', 'Course Name': 'Operations Research', 'Day': 'Tuesday', 'Time': '10:00-11:40', 'Room': 'F201', 'Lecturer': 'Dr. Rina Yuliana'}, {'Course ID': 'DSN201', 'Course Name': 'Graphic Design Basics', 'Day': 'Tuesday', 'Time': '13:00-14:40', 'Room': 'D303', 'Lecturer': 'Dr. Maya Kartika'}], 'wednesday': [{'Course ID': 'INF102', 'Course Name': 'Database Systems', 'Day': 'Wednesday', 'Time': '10:00-11:40', 'Room': 'B202', 'Lecturer': 'Dr. Budi Santoso'}], 'friday': [{'Course ID': 'IS502', 'Course Name': 'Business Intelligence', 'Day': 'Friday', 'Time': '13:00-14:40', 'Room': 'G102', 'Lecturer': 'Dr. Lina Marlina'}]}}\n",
      "{'Student': 'Dwi Ananda Kusuma', 'NIM': '110121078', 'Semester': np.int64(8), 'Schedule': {'monday': [{'Course ID': 'INF101', 'Course Name': 'Data Structures', 'Day': 'Monday', 'Time': '08:00-09:40', 'Room': 'A101', 'Lecturer': 'Dr. Andi Setiawan'}], 'wednesday': [{'Course ID': 'INF102', 'Course Name': 'Database Systems', 'Day': 'Wednesday', 'Time': '10:00-11:40', 'Room': 'B202', 'Lecturer': 'Dr. Budi Santoso'}], 'thursday': [{'Course ID': 'DSN202', 'Course Name': 'Digital Illustration', 'Day': 'Thursday', 'Time': '09:00-10:40', 'Room': 'D305', 'Lecturer': 'Dr. Yuli Handayani'}], 'friday': [{'Course ID': 'ELC302', 'Course Name': 'Electromagnetics', 'Day': 'Friday', 'Time': '08:00-09:40', 'Room': 'E102', 'Lecturer': 'Dr. Wahyu Gunawan'}]}}\n",
      "{'Student': 'Siti Nurhaliza', 'NIM': '110123056', 'Semester': np.int64(3), 'Schedule': {'monday': [{'Course ID': 'INF101', 'Course Name': 'Data Structures', 'Day': 'Monday', 'Time': '08:00-09:40', 'Room': 'A101', 'Lecturer': 'Dr. Andi Setiawan'}], 'tuesday': [{'Course ID': 'DSN201', 'Course Name': 'Graphic Design Basics', 'Day': 'Tuesday', 'Time': '13:00-14:40', 'Room': 'D303', 'Lecturer': 'Dr. Maya Kartika'}], 'thursday': [{'Course ID': 'IND402', 'Course Name': 'Supply Chain Management', 'Day': 'Thursday', 'Time': '13:00-14:40', 'Room': 'F202', 'Lecturer': 'Dr. Suryo Adi'}], 'friday': [{'Course ID': 'ELC302', 'Course Name': 'Electromagnetics', 'Day': 'Friday', 'Time': '08:00-09:40', 'Room': 'E102', 'Lecturer': 'Dr. Wahyu Gunawan'}]}}\n"
     ]
    }
   ],
   "source": [
    "from sis_app.app.schedule import get_my_schedule\n",
    "\n",
    "# ========================\n",
    "# ✅ Test Cases\n",
    "# ========================\n",
    "print(get_my_schedule(\"110123001\", 2023, \"1234\"))  # Rizky Pratama\n",
    "print(get_my_schedule(\"110124015\", 2024, \"2345\"))  # Ayu Lestari Putri\n",
    "print(get_my_schedule(\"110122043\", 2022, \"3456\"))  # Muhammad Fajar Ramadhan\n",
    "print(get_my_schedule(\"110121078\", 2021, \"4567\"))  # Dwi Ananda Kusuma\n",
    "print(get_my_schedule(\"110123056\", 2023, \"5678\"))  # Siti Nurhaliza"
   ]
  },
  {
   "cell_type": "code",
   "execution_count": 1,
   "id": "f9ea725a",
   "metadata": {},
   "outputs": [
    {
     "name": "stdout",
     "output_type": "stream",
     "text": [
      "{'message': 'Welcome to Telkom University SIS API'}\n",
      "{'Full Name': 'Rizky Pratama', 'NIM': '110123001', 'Enrollment Year': np.int64(2023), 'Current Year': np.int64(2), 'Semester': np.int64(4), 'Field of Study': 'Informatics Engineering', 'Academic Advisor': 'Dr. Andi Setiawan'}\n",
      "{'Student Name': 'Rizky Pratama', 'NIM': '110123001', 'Semester': np.int64(4), 'Cumulative GPA': np.float64(3.45), 'Semester GPA': np.float64(3.6), 'Courses': [{'Course ID': 'INF101', 'Course Name': 'Data Structures', 'Lecturer': 'Dr. Andi Setiawan', 'Credits': np.int64(3), 'Score': 'A'}, {'Course ID': 'INF102', 'Course Name': 'Database Systems', 'Lecturer': 'Dr. Budi Santoso', 'Credits': np.int64(3), 'Score': 'B+'}, {'Course ID': 'IS501', 'Course Name': 'System Analysis and Design', 'Lecturer': 'Dr. Ahmad Firmansyah', 'Credits': np.int64(3), 'Score': 'A'}, {'Course ID': 'IS502', 'Course Name': 'Business Intelligence', 'Lecturer': 'Dr. Lina Marlina', 'Credits': np.int64(3), 'Score': 'A-'}]}\n",
      "{'Student': 'Rizky Pratama', 'NIM': '110123001', 'Semester': np.int64(4), 'Schedule': {'monday': [{'Course ID': 'ELC301', 'Course Name': 'Circuit Theory', 'Day': 'Monday', 'Time': '13:00-14:40', 'Room': 'E101', 'Lecturer': 'Prof. Bambang Santoso'}], 'tuesday': [{'Course ID': 'IND401', 'Course Name': 'Operations Research', 'Day': 'Tuesday', 'Time': '10:00-11:40', 'Room': 'F201', 'Lecturer': 'Dr. Rina Yuliana'}, {'Course ID': 'DSN201', 'Course Name': 'Graphic Design Basics', 'Day': 'Tuesday', 'Time': '13:00-14:40', 'Room': 'D303', 'Lecturer': 'Dr. Maya Kartika'}], 'thursday': [{'Course ID': 'DSN202', 'Course Name': 'Digital Illustration', 'Day': 'Thursday', 'Time': '09:00-10:40', 'Room': 'D305', 'Lecturer': 'Dr. Yuli Handayani'}]}}\n"
     ]
    }
   ],
   "source": [
    "import sis_app.app.main as main\n",
    "\n",
    "print(main.root())  # Run the main application\n",
    "print(main.api_student_info(\"110123001\", 2023, \"1234\"))\n",
    "print(main.api_student_report(\"110123001\", 2023, \"1234\"))\n",
    "print(main.api_student_schedule(\"110123001\", 2023, \"1234\"))"
   ]
  },
  {
   "cell_type": "code",
   "execution_count": null,
   "id": "c9bb6fd0",
   "metadata": {},
   "outputs": [],
   "source": []
  },
  {
   "cell_type": "code",
   "execution_count": null,
   "id": "5771a3ce",
   "metadata": {},
   "outputs": [],
   "source": []
  },
  {
   "cell_type": "code",
   "execution_count": null,
   "id": "b30159d0",
   "metadata": {},
   "outputs": [],
   "source": []
  },
  {
   "cell_type": "code",
   "execution_count": 1,
   "id": "3db5a68e",
   "metadata": {},
   "outputs": [],
   "source": [
    "import yfinance as yf"
   ]
  },
  {
   "cell_type": "code",
   "execution_count": 13,
   "id": "d5006d1f",
   "metadata": {},
   "outputs": [
    {
     "name": "stderr",
     "output_type": "stream",
     "text": [
      "/Users/hizkiafebianto/Documents/GitHub/AI Workshop for TelU/code_engine/app/web_search.py:7: RuntimeWarning: This package (`duckduckgo_search`) has been renamed to `ddgs`! Use `pip install ddgs` instead.\n",
      "  with DDGS() as ddgs:\n"
     ]
    },
    {
     "data": {
      "text/plain": [
       "[{'title': 'Latest and Breaking News | South China Morning Post',\n",
       "  'href': 'https://www.scmp.com/live',\n",
       "  'body': 'Breaking news from Hong Kong, China and Asia including geopolitics, diplomacy, economy, technology, lifestyle, entertainment and sport.'},\n",
       " {'title': 'Latest news on Hong Kong, China, Asia and the world | South …',\n",
       "  'href': 'https://www.scmp.com/news',\n",
       "  'body': 'All the latest news, opinions and analysis on Hong Kong, China, Asia and around the world'},\n",
       " {'title': 'South China Morning Post',\n",
       "  'href': 'https://www.scmp.com/',\n",
       "  'body': 'News, opinions, infographics and videos on China issues: geopolitics, diplomacy, economy, technology and lifestyle.'},\n",
       " {'title': 'China Breaking News & Headlines | South China Morning Post',\n",
       "  'href': 'https://www.scmp.com/news/china',\n",
       "  'body': \"Latest China news, opinions and analysis, covering Xi Jinping, Beijing's relations with Taiwan and China's tensions with the US.\"},\n",
       " {'title': 'Latest Tips | HK Racing | South China Morning Post',\n",
       "  'href': 'https://www.scmp.com/sport/racing/tips/latest',\n",
       "  'body': 'Horse racing news, fixtures, race reports, features and analysis.'}]"
      ]
     },
     "execution_count": 13,
     "metadata": {},
     "output_type": "execute_result"
    }
   ],
   "source": [
    "import code_engine.app.stock_info as si\n",
    "import code_engine.app.stock_price as sp\n",
    "import code_engine.app.financial_statements as fs\n",
    "import code_engine.app.wikipedia_search as wiki\n",
    "import code_engine.app.web_search as web\n",
    "\n",
    "web.search_web(\"latest news on AI\")"
   ]
  },
  {
   "cell_type": "code",
   "execution_count": 23,
   "id": "a31787b6",
   "metadata": {},
   "outputs": [
    {
     "data": {
      "text/plain": [
       "{Timestamp('2024-12-31 00:00:00'): {'Tax Effect Of Unusual Items': -136800000.0,\n",
       "  'Tax Rate For Calcs': 0.2,\n",
       "  'Normalized EBITDA': 15392000000.0,\n",
       "  'Total Unusual Items': -684000000.0,\n",
       "  'Total Unusual Items Excluding Goodwill': -684000000.0,\n",
       "  'Net Income From Continuing Operation Net Minority Interest': 7130000000.0,\n",
       "  'Reconciled Depreciation': 5368000000.0,\n",
       "  'Reconciled Cost Of Revenue': 80240000000.0,\n",
       "  'EBITDA': 14708000000.0,\n",
       "  'EBIT': 9340000000.0,\n",
       "  'Net Interest Income': 1219000000.0,\n",
       "  'Interest Expense': 350000000.0,\n",
       "  'Interest Income': 1569000000.0,\n",
       "  'Normalized Income': 7677200000.0,\n",
       "  'Net Income From Continuing And Discontinued Operation': 7130000000.0,\n",
       "  'Total Expenses': 89930000000.0,\n",
       "  'Rent Expense Supplemental': 1003000000.0,\n",
       "  'Total Operating Income As Reported': 7076000000.0,\n",
       "  'Diluted Average Shares': 3498000000.0,\n",
       "  'Basic Average Shares': 3197000000.0,\n",
       "  'Diluted EPS': 2.04,\n",
       "  'Basic EPS': 2.23,\n",
       "  'Diluted NI Availto Com Stockholders': 7130000000.0,\n",
       "  'Average Dilution Earnings': 0.0,\n",
       "  'Net Income Common Stockholders': 7130000000.0,\n",
       "  'Otherunder Preferred Stock Dividend': nan,\n",
       "  'Net Income': 7130000000.0,\n",
       "  'Minority Interests': -23000000.0,\n",
       "  'Net Income Including Noncontrolling Interests': 7153000000.0,\n",
       "  'Net Income Continuous Operations': 7153000000.0,\n",
       "  'Tax Provision': 1837000000.0,\n",
       "  'Pretax Income': 8990000000.0,\n",
       "  'Other Income Expense': 11000000.0,\n",
       "  'Other Non Operating Income Expenses': 695000000.0,\n",
       "  'Special Income Charges': -684000000.0,\n",
       "  'Restructuring And Mergern Acquisition': 684000000.0,\n",
       "  'Net Non Operating Interest Income Expense': 1219000000.0,\n",
       "  'Interest Expense Non Operating': 350000000.0,\n",
       "  'Interest Income Non Operating': 1569000000.0,\n",
       "  'Operating Income': 7760000000.0,\n",
       "  'Operating Expense': 9690000000.0,\n",
       "  'Research And Development': 4540000000.0,\n",
       "  'Selling General And Administration': 5150000000.0,\n",
       "  'Gross Profit': 17450000000.0,\n",
       "  'Cost Of Revenue': 80240000000.0,\n",
       "  'Total Revenue': 97690000000.0,\n",
       "  'Operating Revenue': 97690000000.0},\n",
       " Timestamp('2023-12-31 00:00:00'): {'Tax Effect Of Unusual Items': 0.0,\n",
       "  'Tax Rate For Calcs': 0.21,\n",
       "  'Normalized EBITDA': 14796000000.0,\n",
       "  'Total Unusual Items': 0.0,\n",
       "  'Total Unusual Items Excluding Goodwill': 0.0,\n",
       "  'Net Income From Continuing Operation Net Minority Interest': 14999000000.0,\n",
       "  'Reconciled Depreciation': 4667000000.0,\n",
       "  'Reconciled Cost Of Revenue': 79113000000.0,\n",
       "  'EBITDA': 14796000000.0,\n",
       "  'EBIT': 10129000000.0,\n",
       "  'Net Interest Income': 910000000.0,\n",
       "  'Interest Expense': 156000000.0,\n",
       "  'Interest Income': 1066000000.0,\n",
       "  'Normalized Income': 14999000000.0,\n",
       "  'Net Income From Continuing And Discontinued Operation': 14999000000.0,\n",
       "  'Total Expenses': 87882000000.0,\n",
       "  'Rent Expense Supplemental': 1268000000.0,\n",
       "  'Total Operating Income As Reported': 8891000000.0,\n",
       "  'Diluted Average Shares': 3482750000.0,\n",
       "  'Basic Average Shares': 3173500000.0,\n",
       "  'Diluted EPS': 4.31,\n",
       "  'Basic EPS': 4.725697,\n",
       "  'Diluted NI Availto Com Stockholders': 14999000000.0,\n",
       "  'Average Dilution Earnings': 0.0,\n",
       "  'Net Income Common Stockholders': 14999000000.0,\n",
       "  'Otherunder Preferred Stock Dividend': nan,\n",
       "  'Net Income': 14999000000.0,\n",
       "  'Minority Interests': 25000000.0,\n",
       "  'Net Income Including Noncontrolling Interests': 14974000000.0,\n",
       "  'Net Income Continuous Operations': 14974000000.0,\n",
       "  'Tax Provision': -5001000000.0,\n",
       "  'Pretax Income': 9973000000.0,\n",
       "  'Other Income Expense': 172000000.0,\n",
       "  'Other Non Operating Income Expenses': 172000000.0,\n",
       "  'Special Income Charges': 0.0,\n",
       "  'Restructuring And Mergern Acquisition': 0.0,\n",
       "  'Net Non Operating Interest Income Expense': 910000000.0,\n",
       "  'Interest Expense Non Operating': 156000000.0,\n",
       "  'Interest Income Non Operating': 1066000000.0,\n",
       "  'Operating Income': 8891000000.0,\n",
       "  'Operating Expense': 8769000000.0,\n",
       "  'Research And Development': 3969000000.0,\n",
       "  'Selling General And Administration': 4800000000.0,\n",
       "  'Gross Profit': 17660000000.0,\n",
       "  'Cost Of Revenue': 79113000000.0,\n",
       "  'Total Revenue': 96773000000.0,\n",
       "  'Operating Revenue': 96773000000.0},\n",
       " Timestamp('2022-12-31 00:00:00'): {'Tax Effect Of Unusual Items': -14080000.0,\n",
       "  'Tax Rate For Calcs': 0.08,\n",
       "  'Normalized EBITDA': 17833000000.0,\n",
       "  'Total Unusual Items': -176000000.0,\n",
       "  'Total Unusual Items Excluding Goodwill': -176000000.0,\n",
       "  'Net Income From Continuing Operation Net Minority Interest': 12583000000.0,\n",
       "  'Reconciled Depreciation': 3747000000.0,\n",
       "  'Reconciled Cost Of Revenue': 60609000000.0,\n",
       "  'EBITDA': 17657000000.0,\n",
       "  'EBIT': 13910000000.0,\n",
       "  'Net Interest Income': 106000000.0,\n",
       "  'Interest Expense': 191000000.0,\n",
       "  'Interest Income': 297000000.0,\n",
       "  'Normalized Income': 12744920000.0,\n",
       "  'Net Income From Continuing And Discontinued Operation': 12583000000.0,\n",
       "  'Total Expenses': 67630000000.0,\n",
       "  'Rent Expense Supplemental': 1509000000.0,\n",
       "  'Total Operating Income As Reported': 13656000000.0,\n",
       "  'Diluted Average Shares': 3475000000.0,\n",
       "  'Basic Average Shares': 3130000000.0,\n",
       "  'Diluted EPS': 3.62,\n",
       "  'Basic EPS': 4.02,\n",
       "  'Diluted NI Availto Com Stockholders': 12584000000.0,\n",
       "  'Average Dilution Earnings': 1000000.0,\n",
       "  'Net Income Common Stockholders': 12583000000.0,\n",
       "  'Otherunder Preferred Stock Dividend': nan,\n",
       "  'Net Income': 12583000000.0,\n",
       "  'Minority Interests': -4000000.0,\n",
       "  'Net Income Including Noncontrolling Interests': 12587000000.0,\n",
       "  'Net Income Continuous Operations': 12587000000.0,\n",
       "  'Tax Provision': 1132000000.0,\n",
       "  'Pretax Income': 13719000000.0,\n",
       "  'Other Income Expense': -219000000.0,\n",
       "  'Other Non Operating Income Expenses': -43000000.0,\n",
       "  'Special Income Charges': -176000000.0,\n",
       "  'Restructuring And Mergern Acquisition': 176000000.0,\n",
       "  'Net Non Operating Interest Income Expense': 106000000.0,\n",
       "  'Interest Expense Non Operating': 191000000.0,\n",
       "  'Interest Income Non Operating': 297000000.0,\n",
       "  'Operating Income': 13832000000.0,\n",
       "  'Operating Expense': 7021000000.0,\n",
       "  'Research And Development': 3075000000.0,\n",
       "  'Selling General And Administration': 3946000000.0,\n",
       "  'Gross Profit': 20853000000.0,\n",
       "  'Cost Of Revenue': 60609000000.0,\n",
       "  'Total Revenue': 81462000000.0,\n",
       "  'Operating Revenue': 81462000000.0},\n",
       " Timestamp('2021-12-31 00:00:00'): {'Tax Effect Of Unusual Items': 2970000.0,\n",
       "  'Tax Rate For Calcs': 0.11,\n",
       "  'Normalized EBITDA': 9598000000.0,\n",
       "  'Total Unusual Items': 27000000.0,\n",
       "  'Total Unusual Items Excluding Goodwill': 27000000.0,\n",
       "  'Net Income From Continuing Operation Net Minority Interest': 5524000000.0,\n",
       "  'Reconciled Depreciation': 2911000000.0,\n",
       "  'Reconciled Cost Of Revenue': 40217000000.0,\n",
       "  'EBITDA': 9625000000.0,\n",
       "  'EBIT': 6714000000.0,\n",
       "  'Net Interest Income': -315000000.0,\n",
       "  'Interest Expense': 371000000.0,\n",
       "  'Interest Income': 56000000.0,\n",
       "  'Normalized Income': 5499970000.0,\n",
       "  'Net Income From Continuing And Discontinued Operation': 5524000000.0,\n",
       "  'Total Expenses': 47327000000.0,\n",
       "  'Rent Expense Supplemental': 978000000.0,\n",
       "  'Total Operating Income As Reported': 6523000000.0,\n",
       "  'Diluted Average Shares': 3386000000.0,\n",
       "  'Basic Average Shares': 2959000000.0,\n",
       "  'Diluted EPS': 1.63,\n",
       "  'Basic EPS': 1.87,\n",
       "  'Diluted NI Availto Com Stockholders': 5533000000.0,\n",
       "  'Average Dilution Earnings': 9000000.0,\n",
       "  'Net Income Common Stockholders': 5524000000.0,\n",
       "  'Otherunder Preferred Stock Dividend': -5000000.0,\n",
       "  'Net Income': 5524000000.0,\n",
       "  'Minority Interests': -120000000.0,\n",
       "  'Net Income Including Noncontrolling Interests': 5644000000.0,\n",
       "  'Net Income Continuous Operations': 5644000000.0,\n",
       "  'Tax Provision': 699000000.0,\n",
       "  'Pretax Income': 6343000000.0,\n",
       "  'Other Income Expense': 162000000.0,\n",
       "  'Other Non Operating Income Expenses': 135000000.0,\n",
       "  'Special Income Charges': 27000000.0,\n",
       "  'Restructuring And Mergern Acquisition': -27000000.0,\n",
       "  'Net Non Operating Interest Income Expense': -315000000.0,\n",
       "  'Interest Expense Non Operating': 371000000.0,\n",
       "  'Interest Income Non Operating': 56000000.0,\n",
       "  'Operating Income': 6496000000.0,\n",
       "  'Operating Expense': 7110000000.0,\n",
       "  'Research And Development': 2593000000.0,\n",
       "  'Selling General And Administration': 4517000000.0,\n",
       "  'Gross Profit': 13606000000.0,\n",
       "  'Cost Of Revenue': 40217000000.0,\n",
       "  'Total Revenue': 53823000000.0,\n",
       "  'Operating Revenue': 53823000000.0},\n",
       " Timestamp('2020-12-31 00:00:00'): {'Tax Effect Of Unusual Items': nan,\n",
       "  'Tax Rate For Calcs': nan,\n",
       "  'Normalized EBITDA': nan,\n",
       "  'Total Unusual Items': nan,\n",
       "  'Total Unusual Items Excluding Goodwill': nan,\n",
       "  'Net Income From Continuing Operation Net Minority Interest': nan,\n",
       "  'Reconciled Depreciation': nan,\n",
       "  'Reconciled Cost Of Revenue': nan,\n",
       "  'EBITDA': nan,\n",
       "  'EBIT': nan,\n",
       "  'Net Interest Income': nan,\n",
       "  'Interest Expense': nan,\n",
       "  'Interest Income': nan,\n",
       "  'Normalized Income': nan,\n",
       "  'Net Income From Continuing And Discontinued Operation': nan,\n",
       "  'Total Expenses': nan,\n",
       "  'Rent Expense Supplemental': nan,\n",
       "  'Total Operating Income As Reported': nan,\n",
       "  'Diluted Average Shares': nan,\n",
       "  'Basic Average Shares': nan,\n",
       "  'Diluted EPS': nan,\n",
       "  'Basic EPS': nan,\n",
       "  'Diluted NI Availto Com Stockholders': nan,\n",
       "  'Average Dilution Earnings': nan,\n",
       "  'Net Income Common Stockholders': nan,\n",
       "  'Otherunder Preferred Stock Dividend': 31000000.0,\n",
       "  'Net Income': nan,\n",
       "  'Minority Interests': nan,\n",
       "  'Net Income Including Noncontrolling Interests': nan,\n",
       "  'Net Income Continuous Operations': nan,\n",
       "  'Tax Provision': nan,\n",
       "  'Pretax Income': nan,\n",
       "  'Other Income Expense': nan,\n",
       "  'Other Non Operating Income Expenses': nan,\n",
       "  'Special Income Charges': nan,\n",
       "  'Restructuring And Mergern Acquisition': nan,\n",
       "  'Net Non Operating Interest Income Expense': nan,\n",
       "  'Interest Expense Non Operating': nan,\n",
       "  'Interest Income Non Operating': nan,\n",
       "  'Operating Income': nan,\n",
       "  'Operating Expense': nan,\n",
       "  'Research And Development': nan,\n",
       "  'Selling General And Administration': nan,\n",
       "  'Gross Profit': nan,\n",
       "  'Cost Of Revenue': nan,\n",
       "  'Total Revenue': nan,\n",
       "  'Operating Revenue': nan}}"
      ]
     },
     "execution_count": 23,
     "metadata": {},
     "output_type": "execute_result"
    }
   ],
   "source": [
    "fs.get_financial_statements(\"TSLA\")"
   ]
  },
  {
   "cell_type": "code",
   "execution_count": 32,
   "id": "d2717ce7",
   "metadata": {},
   "outputs": [
    {
     "name": "stderr",
     "output_type": "stream",
     "text": [
      "/Users/hizkiafebianto/Documents/GitHub/AI Workshop for TelU/code_engine/app/web_search.py:7: RuntimeWarning: This package (`duckduckgo_search`) has been renamed to `ddgs`! Use `pip install ddgs` instead.\n",
      "  with DDGS() as ddgs:\n"
     ]
    },
    {
     "data": {
      "text/plain": [
       "[]"
      ]
     },
     "execution_count": 32,
     "metadata": {},
     "output_type": "execute_result"
    }
   ],
   "source": [
    "web.search_web(\"latest news in Jakarta\")"
   ]
  },
  {
   "cell_type": "code",
   "execution_count": 3,
   "id": "172f38ad",
   "metadata": {},
   "outputs": [],
   "source": [
    "import yfinance as yf\n",
    "\n",
    "def get_stock_information(ticker: str) -> dict:\n",
    "    \"\"\"\n",
    "    Retrieve company fundamentals, valuation metrics, and current price.\n",
    "    \"\"\"\n",
    "    stock = yf.Ticker(ticker)\n",
    "    info = stock.info  # metadata from Yahoo\n",
    "    \n",
    "    return {\n",
    "        \"company\": info.get(\"longName\"),\n",
    "        \"ticker\": ticker,\n",
    "        \"sector\": info.get(\"sector\"),\n",
    "        \"industry\": info.get(\"industry\"),\n",
    "        \"market_cap\": info.get(\"marketCap\"),\n",
    "        \"pe_ratio\": info.get(\"trailingPE\"),\n",
    "        \"forward_pe\": info.get(\"forwardPE\"),\n",
    "        \"profit_margin\": info.get(\"profitMargins\"),\n",
    "        \"beta\": info.get(\"beta\"),\n",
    "        \"currency\": info.get(\"currency\"),\n",
    "        \"current_price\": info.get(\"currentPrice\"),\n",
    "        \"description\": info.get(\"longBusinessSummary\")\n",
    "    }"
   ]
  },
  {
   "cell_type": "code",
   "execution_count": 5,
   "id": "89f72f59",
   "metadata": {},
   "outputs": [
    {
     "data": {
      "text/plain": [
       "{'company': 'Microsoft Corporation',\n",
       " 'ticker': 'MSFT',\n",
       " 'sector': 'Technology',\n",
       " 'industry': 'Software - Infrastructure',\n",
       " 'market_cap': 3719335247872,\n",
       " 'pe_ratio': 36.630306,\n",
       " 'forward_pe': 33.469566,\n",
       " 'profit_margin': 0.36146,\n",
       " 'beta': 1.04,\n",
       " 'currency': 'USD',\n",
       " 'current_price': 500.37,\n",
       " 'description': \"Microsoft Corporation develops and supports software, services, devices, and solutions worldwide. The company's Productivity and Business Processes segment offers Microsoft 365 Commercial, Enterprise Mobility + Security, Windows Commercial, Power BI, Exchange, SharePoint, Microsoft Teams, Security and Compliance, and Copilot; Microsoft 365 Commercial products, such as Windows Commercial on-premises and Office licensed services; Microsoft 365 Consumer products and cloud services, such as Microsoft 365 Consumer subscriptions, Office licensed on-premises, and other consumer services; LinkedIn; Dynamics products and cloud services, such as Dynamics 365, cloud-based applications, and on-premises ERP and CRM applications. Its Intelligent Cloud segment provides Server products and cloud services, such as Azure and other cloud services, GitHub, Nuance Healthcare, virtual desktop offerings, and other cloud services; Server products, including SQL and Windows Server, Visual Studio and System Center related Client Access Licenses, and other on-premises offerings; Enterprise and partner services, including Enterprise Support and Nuance professional Services, Industry Solutions, Microsoft Partner Network, and Learning Experience. The company's Personal Computing segment provides Windows and Devices, such as Windows OEM licensing and Devices and Surface and PC accessories; Gaming services and solutions, such as Xbox hardware, content, and services, first- and third-party content Xbox Game Pass, subscriptions, and Cloud Gaming, advertising, and other cloud services; search and news advertising services, such as Bing and Copilot, Microsoft News and Edge, and third-party affiliates. It sells its products through OEMs, distributors, and resellers; and online and retail stores. The company was founded in 1975 and is headquartered in Redmond, Washington.\"}"
      ]
     },
     "execution_count": 5,
     "metadata": {},
     "output_type": "execute_result"
    }
   ],
   "source": [
    "get_stock_information(\"MSFT\")"
   ]
  },
  {
   "cell_type": "code",
   "execution_count": null,
   "id": "e5f49525",
   "metadata": {},
   "outputs": [],
   "source": [
    "{\n",
    "    \"ticker\": {\n",
    "        \"title\": \"Ticker Symbol\",\n",
    "        \"type\": \"string\",\n",
    "        \"description\": \"The stock ticker symbol (e.g., AAPL for Apple Inc.)\n",
    "    }\n",
    "}"
   ]
  }
 ],
 "metadata": {
  "kernelspec": {
   "display_name": "venv",
   "language": "python",
   "name": "python3"
  },
  "language_info": {
   "codemirror_mode": {
    "name": "ipython",
    "version": 3
   },
   "file_extension": ".py",
   "mimetype": "text/x-python",
   "name": "python",
   "nbconvert_exporter": "python",
   "pygments_lexer": "ipython3",
   "version": "3.11.5"
  }
 },
 "nbformat": 4,
 "nbformat_minor": 5
}
