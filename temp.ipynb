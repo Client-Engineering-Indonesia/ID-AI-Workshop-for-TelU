{
 "cells": [
  {
   "cell_type": "code",
   "execution_count": 1,
   "id": "3db5a68e",
   "metadata": {},
   "outputs": [],
   "source": [
    "import yfinance as yf"
   ]
  },
  {
   "cell_type": "code",
   "execution_count": 13,
   "id": "d5006d1f",
   "metadata": {},
   "outputs": [
    {
     "name": "stderr",
     "output_type": "stream",
     "text": [
      "/Users/hizkiafebianto/Documents/GitHub/AI Workshop for TelU/code_engine/app/web_search.py:7: RuntimeWarning: This package (`duckduckgo_search`) has been renamed to `ddgs`! Use `pip install ddgs` instead.\n",
      "  with DDGS() as ddgs:\n"
     ]
    },
    {
     "data": {
      "text/plain": [
       "[{'title': 'Latest and Breaking News | South China Morning Post',\n",
       "  'href': 'https://www.scmp.com/live',\n",
       "  'body': 'Breaking news from Hong Kong, China and Asia including geopolitics, diplomacy, economy, technology, lifestyle, entertainment and sport.'},\n",
       " {'title': 'Latest news on Hong Kong, China, Asia and the world | South …',\n",
       "  'href': 'https://www.scmp.com/news',\n",
       "  'body': 'All the latest news, opinions and analysis on Hong Kong, China, Asia and around the world'},\n",
       " {'title': 'South China Morning Post',\n",
       "  'href': 'https://www.scmp.com/',\n",
       "  'body': 'News, opinions, infographics and videos on China issues: geopolitics, diplomacy, economy, technology and lifestyle.'},\n",
       " {'title': 'China Breaking News & Headlines | South China Morning Post',\n",
       "  'href': 'https://www.scmp.com/news/china',\n",
       "  'body': \"Latest China news, opinions and analysis, covering Xi Jinping, Beijing's relations with Taiwan and China's tensions with the US.\"},\n",
       " {'title': 'Latest Tips | HK Racing | South China Morning Post',\n",
       "  'href': 'https://www.scmp.com/sport/racing/tips/latest',\n",
       "  'body': 'Horse racing news, fixtures, race reports, features and analysis.'}]"
      ]
     },
     "execution_count": 13,
     "metadata": {},
     "output_type": "execute_result"
    }
   ],
   "source": [
    "import code_engine.app.stock_info as si\n",
    "import code_engine.app.stock_price as sp\n",
    "import code_engine.app.financial_statements as fs\n",
    "import code_engine.app.wikipedia_search as wiki\n",
    "import code_engine.app.web_search as web\n",
    "\n",
    "web.search_web(\"latest news on AI\")"
   ]
  },
  {
   "cell_type": "code",
   "execution_count": 3,
   "id": "172f38ad",
   "metadata": {},
   "outputs": [],
   "source": [
    "import yfinance as yf\n",
    "\n",
    "def get_stock_information(ticker: str) -> dict:\n",
    "    \"\"\"\n",
    "    Retrieve company fundamentals, valuation metrics, and current price.\n",
    "    \"\"\"\n",
    "    stock = yf.Ticker(ticker)\n",
    "    info = stock.info  # metadata from Yahoo\n",
    "    \n",
    "    return {\n",
    "        \"company\": info.get(\"longName\"),\n",
    "        \"ticker\": ticker,\n",
    "        \"sector\": info.get(\"sector\"),\n",
    "        \"industry\": info.get(\"industry\"),\n",
    "        \"market_cap\": info.get(\"marketCap\"),\n",
    "        \"pe_ratio\": info.get(\"trailingPE\"),\n",
    "        \"forward_pe\": info.get(\"forwardPE\"),\n",
    "        \"profit_margin\": info.get(\"profitMargins\"),\n",
    "        \"beta\": info.get(\"beta\"),\n",
    "        \"currency\": info.get(\"currency\"),\n",
    "        \"current_price\": info.get(\"currentPrice\"),\n",
    "        \"description\": info.get(\"longBusinessSummary\")\n",
    "    }"
   ]
  },
  {
   "cell_type": "code",
   "execution_count": 5,
   "id": "89f72f59",
   "metadata": {},
   "outputs": [
    {
     "data": {
      "text/plain": [
       "{'company': 'Microsoft Corporation',\n",
       " 'ticker': 'MSFT',\n",
       " 'sector': 'Technology',\n",
       " 'industry': 'Software - Infrastructure',\n",
       " 'market_cap': 3719335247872,\n",
       " 'pe_ratio': 36.630306,\n",
       " 'forward_pe': 33.469566,\n",
       " 'profit_margin': 0.36146,\n",
       " 'beta': 1.04,\n",
       " 'currency': 'USD',\n",
       " 'current_price': 500.37,\n",
       " 'description': \"Microsoft Corporation develops and supports software, services, devices, and solutions worldwide. The company's Productivity and Business Processes segment offers Microsoft 365 Commercial, Enterprise Mobility + Security, Windows Commercial, Power BI, Exchange, SharePoint, Microsoft Teams, Security and Compliance, and Copilot; Microsoft 365 Commercial products, such as Windows Commercial on-premises and Office licensed services; Microsoft 365 Consumer products and cloud services, such as Microsoft 365 Consumer subscriptions, Office licensed on-premises, and other consumer services; LinkedIn; Dynamics products and cloud services, such as Dynamics 365, cloud-based applications, and on-premises ERP and CRM applications. Its Intelligent Cloud segment provides Server products and cloud services, such as Azure and other cloud services, GitHub, Nuance Healthcare, virtual desktop offerings, and other cloud services; Server products, including SQL and Windows Server, Visual Studio and System Center related Client Access Licenses, and other on-premises offerings; Enterprise and partner services, including Enterprise Support and Nuance professional Services, Industry Solutions, Microsoft Partner Network, and Learning Experience. The company's Personal Computing segment provides Windows and Devices, such as Windows OEM licensing and Devices and Surface and PC accessories; Gaming services and solutions, such as Xbox hardware, content, and services, first- and third-party content Xbox Game Pass, subscriptions, and Cloud Gaming, advertising, and other cloud services; search and news advertising services, such as Bing and Copilot, Microsoft News and Edge, and third-party affiliates. It sells its products through OEMs, distributors, and resellers; and online and retail stores. The company was founded in 1975 and is headquartered in Redmond, Washington.\"}"
      ]
     },
     "execution_count": 5,
     "metadata": {},
     "output_type": "execute_result"
    }
   ],
   "source": [
    "get_stock_information(\"MSFT\")"
   ]
  },
  {
   "cell_type": "code",
   "execution_count": null,
   "id": "e5f49525",
   "metadata": {},
   "outputs": [],
   "source": [
    "{\n",
    "    \"ticker\": {\n",
    "        \"title\": \"Ticker Symbol\",\n",
    "        \"type\": \"string\",\n",
    "        \"description\": \"The stock ticker symbol (e.g., AAPL for Apple Inc.)\n",
    "    }\n",
    "}"
   ]
  }
 ],
 "metadata": {
  "kernelspec": {
   "display_name": "venv",
   "language": "python",
   "name": "python3"
  },
  "language_info": {
   "codemirror_mode": {
    "name": "ipython",
    "version": 3
   },
   "file_extension": ".py",
   "mimetype": "text/x-python",
   "name": "python",
   "nbconvert_exporter": "python",
   "pygments_lexer": "ipython3",
   "version": "3.11.5"
  }
 },
 "nbformat": 4,
 "nbformat_minor": 5
}
